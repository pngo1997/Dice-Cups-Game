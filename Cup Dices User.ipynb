{
 "cells": [
  {
   "cell_type": "markdown",
   "id": "28495605-e163-48a6-bf83-2af7f94daea1",
   "metadata": {},
   "source": [
    "#### Student Name: Mai Ngo\n",
    "#### Course Name and Number: DSC 430 Python Programming\n",
    "#### Assignment Name and Number: Assignment0502_Cups and Dice\n",
    "#### Date: 2/6/2023\n",
    "#### Honor Statement: “I have not given or received any unauthorized assistance on this assignment.\""
   ]
  },
  {
   "cell_type": "markdown",
   "id": "78df9814-b0af-489c-b9ca-8a2543bf44c5",
   "metadata": {},
   "source": [
    "#### Assumption:"
   ]
  },
  {
   "cell_type": "markdown",
   "id": "f8685557-18a8-4597-ad24-d83df27e0983",
   "metadata": {},
   "source": [
    " Still use top-down design. \\\n",
    " I tried to code def wish Exit() separately - user decides to continue or not. It did not workout... and I gave up cause it was almost 3 hours and I still couldn't figure it out. \\\n",
    " I tested all 5 sessions in the same window because I want to keeo track of the final balance. \\\n",
    " Not sure the format of session verification. So I do it at the end."
   ]
  },
  {
   "cell_type": "code",
   "execution_count": 78,
   "id": "e9828bba-009e-4751-9063-ce1562577897",
   "metadata": {},
   "outputs": [
    {
     "name": "stdout",
     "output_type": "stream",
     "text": [
      "Requirement already satisfied: ipynb in c:\\users\\maimu\\anaconda3\\lib\\site-packages (0.5.1)\n"
     ]
    }
   ],
   "source": [
    "!pip install ipynb"
   ]
  },
  {
   "cell_type": "code",
   "execution_count": 97,
   "id": "159b5a61-757c-43ea-b476-9fc994373b09",
   "metadata": {},
   "outputs": [],
   "source": [
    "from ipynb.fs.defs.Assignment0501 import Cup"
   ]
  },
  {
   "cell_type": "code",
   "execution_count": 400,
   "id": "9fe2fe47-b7c6-49a1-81cb-686c34011ec1",
   "metadata": {},
   "outputs": [],
   "source": [
    "import random\n",
    "def cupDices():\n",
    "    name = whatsUp()\n",
    "    #1.Greet the user and ask their name.\n",
    "    \n",
    "    wallet = 100\n",
    "    #2.Provide the user with a balance of 100 dollars.\n",
    "    \n",
    "    choice = input('Do you want to play?? Press any key to continue, or \"X\" to exit:')\n",
    "    #3.Ask if they would like to play a game. \n",
    "    \n",
    "    while choice not in 'Xx':\n",
    "    #While loop in case user decide to keep playing the game.\n",
    "    \n",
    "        goal_num = random.randrange (1, 101)\n",
    "        #4.Generate a random number between 1 and 100.\n",
    "        \n",
    "        print (f'''Your goal number is: {goal_num}.''')\n",
    "        #Print goal number so user can make their bet decision.\n",
    "        \n",
    "        bet_money = float(eval(input(\"How much you would like to bet?\")))\n",
    "        #5.Ask user how much they would like to bet. \n",
    "        \n",
    "        if wallet > bet_money:\n",
    "        #Only moving forward if user has enough money to play (bet money less than what they have).\n",
    "        \n",
    "            six_side, ten_side, twenty_side = askInput()\n",
    "            #Assign 3 variables for quantity of each type of dice.\n",
    "            #6. clarification\n",
    "            \n",
    "            result = cupRoll(six_side, ten_side, twenty_side)\n",
    "            #Assign variable to store result from rolling all dices.\n",
    "            #7.8. clarifications.\n",
    "            \n",
    "            wallet = myBalance(result, bet_money, goal_num,wallet)\n",
    "            #Assign variable to store updated balance after a game. \n",
    "            #9.10.11. clarifications\n",
    "            \n",
    "            print(f'''Result: {result} | {name}'s updated balance: {wallet}.''')\n",
    "            #12. Report the result to user. Message include their name and updated balance.\n",
    "            \n",
    "            choice = input('Do you want to continue?? Press any key to continue, or \"X\" to exit:') \n",
    "            #13. Ask if they would like to play again.\n",
    "        else: \n",
    "        #Case when balance is not enough to bet. Stop the game.\n",
    "            print(\"You don't have enough money. THE END. \\nThank you for joining!\")\n",
    "            #Explain to user not enough money.\n",
    "            break\n",
    "        \n",
    "    else: print(\"Sad to see you leave early. \\nThank you for joining!\")\n",
    "    #Leave early as they wish by typing 'x' or 'X'."
   ]
  },
  {
   "cell_type": "code",
   "execution_count": null,
   "id": "e7a3b168-e8f5-4013-9827-02d265bf5922",
   "metadata": {},
   "outputs": [
    {
     "name": "stdout",
     "output_type": "stream",
     "text": [
      "Welcome to Cups and Dices!\n"
     ]
    },
    {
     "name": "stdin",
     "output_type": "stream",
     "text": [
      "Please tell us your name: Mai\n"
     ]
    },
    {
     "name": "stdout",
     "output_type": "stream",
     "text": [
      "Your balance is: 100 dollars\n"
     ]
    },
    {
     "name": "stdin",
     "output_type": "stream",
     "text": [
      "Do you want to play?? Press any key to continue, or \"X\" to exit: m\n"
     ]
    },
    {
     "name": "stdout",
     "output_type": "stream",
     "text": [
      "Your goal number is: 85.\n"
     ]
    },
    {
     "name": "stdin",
     "output_type": "stream",
     "text": [
      "How much you would like to bet? 10\n",
      "Please enter number(s) of 6 sided-roll:  4\n",
      "Please enter number(s) of 10 sided-roll:  4\n",
      "Please enter number(s) of 20 sided-roll:  4\n"
     ]
    },
    {
     "name": "stdout",
     "output_type": "stream",
     "text": [
      "Result: 102 | Mai's updated balance: 90.0.\n"
     ]
    },
    {
     "name": "stdin",
     "output_type": "stream",
     "text": [
      "Do you want to continue?? Press any key to continue, or \"X\" to exit: a\n"
     ]
    },
    {
     "name": "stdout",
     "output_type": "stream",
     "text": [
      "Your goal number is: 4.\n"
     ]
    },
    {
     "name": "stdin",
     "output_type": "stream",
     "text": [
      "How much you would like to bet? 10\n",
      "Please enter number(s) of 6 sided-roll:  2\n",
      "Please enter number(s) of 10 sided-roll:  0\n",
      "Please enter number(s) of 20 sided-roll:  0\n"
     ]
    },
    {
     "name": "stdout",
     "output_type": "stream",
     "text": [
      "Result: 4 | Mai's updated balance: 190.0.\n"
     ]
    },
    {
     "name": "stdin",
     "output_type": "stream",
     "text": [
      "Do you want to continue?? Press any key to continue, or \"X\" to exit: i\n"
     ]
    },
    {
     "name": "stdout",
     "output_type": "stream",
     "text": [
      "Your goal number is: 23.\n"
     ]
    },
    {
     "name": "stdin",
     "output_type": "stream",
     "text": [
      "How much you would like to bet? 20\n",
      "Please enter number(s) of 6 sided-roll:  0\n",
      "Please enter number(s) of 10 sided-roll:  0\n",
      "Please enter number(s) of 20 sided-roll:  3\n"
     ]
    },
    {
     "name": "stdout",
     "output_type": "stream",
     "text": [
      "Result: 51 | Mai's updated balance: 170.0.\n"
     ]
    },
    {
     "name": "stdin",
     "output_type": "stream",
     "text": [
      "Do you want to continue?? Press any key to continue, or \"X\" to exit: l\n"
     ]
    },
    {
     "name": "stdout",
     "output_type": "stream",
     "text": [
      "Your goal number is: 68.\n"
     ]
    },
    {
     "name": "stdin",
     "output_type": "stream",
     "text": [
      "How much you would like to bet? 20\n",
      "Please enter number(s) of 6 sided-roll:  0\n",
      "Please enter number(s) of 10 sided-roll:  10\n",
      "Please enter number(s) of 20 sided-roll:  0\n"
     ]
    },
    {
     "name": "stdout",
     "output_type": "stream",
     "text": [
      "Result: 34 | Mai's updated balance: 150.0.\n"
     ]
    },
    {
     "name": "stdin",
     "output_type": "stream",
     "text": [
      "Do you want to continue?? Press any key to continue, or \"X\" to exit: u\n"
     ]
    },
    {
     "name": "stdout",
     "output_type": "stream",
     "text": [
      "Your goal number is: 62.\n"
     ]
    },
    {
     "name": "stdin",
     "output_type": "stream",
     "text": [
      "How much you would like to bet? 20\n",
      "Please enter number(s) of 6 sided-roll:  3\n",
      "Please enter number(s) of 10 sided-roll:  3\n",
      "Please enter number(s) of 20 sided-roll:  2\n"
     ]
    },
    {
     "name": "stdout",
     "output_type": "stream",
     "text": [
      "Result: 42 | Mai's updated balance: 130.0.\n"
     ]
    },
    {
     "name": "stdin",
     "output_type": "stream",
     "text": [
      "Do you want to continue?? Press any key to continue, or \"X\" to exit: k\n"
     ]
    },
    {
     "name": "stdout",
     "output_type": "stream",
     "text": [
      "Your goal number is: 24.\n"
     ]
    },
    {
     "name": "stdin",
     "output_type": "stream",
     "text": [
      "How much you would like to bet? 15.5\n",
      "Please enter number(s) of 6 sided-roll:  2\n",
      "Please enter number(s) of 10 sided-roll:  3\n",
      "Please enter number(s) of 20 sided-roll:  4\n"
     ]
    },
    {
     "name": "stdout",
     "output_type": "stream",
     "text": [
      "Result: 55 | Mai's updated balance: 114.5.\n"
     ]
    },
    {
     "name": "stdin",
     "output_type": "stream",
     "text": [
      "Do you want to continue?? Press any key to continue, or \"X\" to exit: e\n"
     ]
    },
    {
     "name": "stdout",
     "output_type": "stream",
     "text": [
      "Your goal number is: 52.\n"
     ]
    },
    {
     "name": "stdin",
     "output_type": "stream",
     "text": [
      "How much you would like to bet? 115\n"
     ]
    },
    {
     "name": "stdout",
     "output_type": "stream",
     "text": [
      "You don't have enough money. THE END. \n",
      "Thank you for joining!\n"
     ]
    }
   ],
   "source": [
    "cupDices()"
   ]
  },
  {
   "cell_type": "code",
   "execution_count": 401,
   "id": "befd3e1b-6910-46e1-8bec-3f8532a60db0",
   "metadata": {},
   "outputs": [],
   "source": [
    "def askInput(): \n",
    "    '''Getting quantity of each type of dices.'''\n",
    "    \n",
    "    six_side = int(eval(input(\"Please enter number(s) of 6 sided-roll: \")))\n",
    "    ten_side = int(eval(input(\"Please enter number(s) of 10 sided-roll: \")))\n",
    "    twenty_side = int(eval(input(\"Please enter number(s) of 20 sided-roll: \")))\n",
    "    #6.Ask the user how many of each dice they would like to roll.\n",
    "    \n",
    "    return six_side, ten_side, twenty_side"
   ]
  },
  {
   "cell_type": "code",
   "execution_count": 402,
   "id": "e5e13f8c-6602-464b-b344-36c96001c67f",
   "metadata": {},
   "outputs": [],
   "source": [
    "def whatsUp():\n",
    "    '''Greeting and asking users for their name.'''\n",
    "    \n",
    "    print(\"Welcome to Cups and Dices!\")\n",
    "    name = input(\"Please tell us your name:\")\n",
    "    #Asking user to input their name. \n",
    "    \n",
    "    return name"
   ]
  },
  {
   "cell_type": "code",
   "execution_count": 394,
   "id": "812fe861-3978-4a29-a207-5e2f3459c1f6",
   "metadata": {},
   "outputs": [],
   "source": [
    "def cupRoll(six_side, ten_side, twenty_side):\n",
    "    '''Get sum result from rolling all the dices.'''\n",
    "    \n",
    "    cup = Cup(six_side, ten_side, twenty_side)\n",
    "    #7. Create a cup filled with dice according to user's input.\n",
    "    cup.roll()\n",
    "    #rolling the cup.\n",
    "    result = cup.getSum()\n",
    "    #Retrieve sum value of the cup through def getSum()\n",
    "    \n",
    "    return result"
   ]
  },
  {
   "cell_type": "code",
   "execution_count": 403,
   "id": "52955922-ebf2-471b-b6e5-fc170e152154",
   "metadata": {},
   "outputs": [],
   "source": [
    "def myBalance(result, bet_money, goal_num, wallet):\n",
    "    '''Report final balance after each game.'''\n",
    "    \n",
    "    bet_money = float(bet_money)\n",
    "    #Using float incase user bet \"123.5\"\n",
    "    #Include in session example\n",
    "    \n",
    "    if result == goal_num:\n",
    "    #9.If the roll exactly match the goal.\n",
    "        wallet += bet_money * 10\n",
    "        #User receives 10 times bet added to their balance.\n",
    "        \n",
    "    elif (goal_num - 3) <= result and result <= (goal_num + 3):\n",
    "    #10.If the roll is within 3 of the goal but not over.\n",
    "        wallet += bet_money * 5\n",
    "        #User receives 5 times bet added to their balance.\n",
    "        \n",
    "    elif (goal_num - 10) <= result and result <= (goal_num + 10):\n",
    "    #10.If the roll is within 3 of the goal but not over.\n",
    "        wallet += bet_money * 2  \n",
    "        #User receives 2 times bet added to their balance.\n",
    "        \n",
    "    else: \n",
    "    #If nothing satisfies, user lose their bet money.\n",
    "        wallet -= bet_money\n",
    "        #Subtracting bet money from starting balance.\n",
    "        \n",
    "    return wallet\n",
    "    #Return final balance."
   ]
  },
  {
   "cell_type": "markdown",
   "id": "162c908e-bf6d-4b24-ba5a-1e03f06880f2",
   "metadata": {},
   "source": [
    "### Verification / Comment of each session"
   ]
  },
  {
   "cell_type": "markdown",
   "id": "d46a3f43-2c45-43c0-9fa6-526bc88ca76e",
   "metadata": {},
   "source": [
    "#### Session 1\n",
    "Welcome to Cups and Dices! \\\n",
    "Please tell us your name: Mai \\\n",
    "Your balance is: 100 dollars \\\n",
    "Do you want to play?? Press any key to continue, or \"X\" to exit: m \n",
    "\n",
    "##### Give random goal number, and ask user for bet amount.\n",
    "Your goal number is: 85.\n",
    "How much you would like to bet? 10\n",
    "\n",
    "##### cup = Cup(4, 4, 4)\n",
    "Please enter number(s) of 6 sided-roll:  4 \\\n",
    "Please enter number(s) of 10 sided-roll:  4 \\\n",
    "Please enter number(s) of 20 sided-roll:  4 \n",
    "\n",
    "##### Result value doesn't satisified any conditions. User lose bet.\n",
    "##### Balance - bet money = 100 - 10 = 90\n",
    "Result: 102 | Mai's updated balance: 90.0."
   ]
  },
  {
   "cell_type": "markdown",
   "id": "3f3e85ce-f657-4294-be7f-6cb0a46d74a6",
   "metadata": {},
   "source": [
    "#### Session 2\n",
    "##### User decide continue to play. Starting balance 90.\n",
    "Do you want to continue?? Press any key to continue, or \"X\" to exit: a\n",
    "\n",
    "##### Give random goal number, and ask user for bet amount.\n",
    "Your goal number is: 4. How much you would like to bet? 10\n",
    "\n",
    "##### cup = Cup(2, 0, 0) - Only 6-sided dice in cup.\n",
    "Please enter number(s) of 6 sided-roll:  2 \\\n",
    "Please enter number(s) of 10 sided-roll:  0 \\\n",
    "Please enter number(s) of 20 sided-roll:  0\n",
    "\n",
    "##### Result value equals to goal number. User receives 10 times bet added to their balance.\n",
    "##### Balance + (10 * 10) = 90 + 100 = 190\n",
    "Result: 4 | Mai's updated balance: 190.0."
   ]
  },
  {
   "cell_type": "markdown",
   "id": "bcd128bd-919e-4d00-b462-63f54a7c9c42",
   "metadata": {},
   "source": [
    "#### Session 3\n",
    "##### User decide continue to play. Starting balance 190.\n",
    "Do you want to continue?? Press any key to continue, or \"X\" to exit: i\n",
    "\n",
    "##### Give random goal number, and ask user for bet amount.\n",
    "Your goal number is: 23. How much you would like to bet? 20\n",
    "\n",
    "##### cup = Cup(0, 0, 3) - Only 20-sided dice in cup.\n",
    "Please enter number(s) of 6 sided-roll:  0 \\\n",
    "Please enter number(s) of 10 sided-roll:  0 \\\n",
    "Please enter number(s) of 20 sided-roll:  3\n",
    "\n",
    "##### Result value doesn't satisfied any conditions. User lose bet.\n",
    "##### Balance - bet money = 190 - 20 = 170\n",
    "Result: 51 | Mai's updated balance: 170.0."
   ]
  },
  {
   "cell_type": "markdown",
   "id": "48382574-cf98-4357-9be1-5e57fbb7b34b",
   "metadata": {},
   "source": [
    "#### Session 4\n",
    "##### User decide continue to play. Starting balance 170.\n",
    "Do you want to continue?? Press any key to continue, or \"X\" to exit: l\n",
    "\n",
    "##### Give random goal number, and ask user for bet amount.\n",
    "Your goal number is: 68. How much you would like to bet? 20\n",
    "\n",
    "##### cup = Cup(0, 10, 3) - Only 10-sided dice in cup.\n",
    "Please enter number(s) of 6 sided-roll:  0\n",
    "Please enter number(s) of 10 sided-roll:  10\n",
    "Please enter number(s) of 20 sided-roll:  0\n",
    "\n",
    "##### Result value doesn't satisfied any conditions. User lose bet.\n",
    "##### Balance - bet money = 170 - 20 = 150\n",
    "Result: 34 | Mai's updated balance: 150.0."
   ]
  },
  {
   "cell_type": "markdown",
   "id": "e04a18d0-1a4c-453f-853a-dd86ca6af89a",
   "metadata": {},
   "source": [
    "#### Session 5\n",
    "##### User decide continue to play. Starting balance 150.\n",
    "Do you want to continue?? Press any key to continue, or \"X\" to exit: u\n",
    "\n",
    "##### Give random goal number, and ask user for bet amount.\n",
    "Your goal number is: 62. How much you would like to bet? 20\n",
    "\n",
    "##### cup = Cup(3, 3, 2) \n",
    "Please enter number(s) of 6 sided-roll:  3 \\\n",
    "Please enter number(s) of 10 sided-roll:  3 \\\n",
    "Please enter number(s) of 20 sided-roll:  2\n",
    "\n",
    "##### Result value doesn't satisfied any conditions. User lose bet.\n",
    "##### Balance - bet money = 150 - 20 = 130\n",
    "Result: 42 | Mai's updated balance: 130.0."
   ]
  },
  {
   "cell_type": "markdown",
   "id": "c5263c51-a29b-4a74-8d2b-d159c6c083d7",
   "metadata": {},
   "source": [
    "#### Session 6\n",
    "##### User decide continue to play. Starting balance 130.\n",
    "Do you want to continue?? Press any key to continue, or \"X\" to exit: k\n",
    "\n",
    "##### Give random goal number, and ask user for bet amount. Bet amount is NOT an integer.\n",
    "Your goal number is: 24. How much you would like to bet? 15.5\n",
    "\n",
    "##### cup = Cup(2, 3, 4)\n",
    "Please enter number(s) of 6 sided-roll:  2\n",
    "Please enter number(s) of 10 sided-roll:  3\n",
    "Please enter number(s) of 20 sided-roll:  4\n",
    "\n",
    "##### Result value doesn't satisfied any conditions. User lose bet.\n",
    "##### Balance - bet money = 130 - 15.5 = 114.5\n",
    "Result: 55 | Mai's updated balance: 114.5.\n",
    "\n",
    "##### User decide continue to play. Starting balance 114.5\n",
    "Do you want to continue?? Press any key to continue, or \"X\" to exit: e\n",
    "\n",
    "##### Give bet amount greater than balance. \n",
    "Your goal number is: 52. How much you would like to bet? 115\n",
    "\n",
    "##### Not enough money, game automatically ends.\n",
    "You don't have enough money. THE END. \n",
    "Thank you for joining!"
   ]
  }
 ],
 "metadata": {
  "kernelspec": {
   "display_name": "Python 3 (ipykernel)",
   "language": "python",
   "name": "python3"
  },
  "language_info": {
   "codemirror_mode": {
    "name": "ipython",
    "version": 3
   },
   "file_extension": ".py",
   "mimetype": "text/x-python",
   "name": "python",
   "nbconvert_exporter": "python",
   "pygments_lexer": "ipython3",
   "version": "3.9.13"
  }
 },
 "nbformat": 4,
 "nbformat_minor": 5
}
