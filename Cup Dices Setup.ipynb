{
 "cells": [
  {
   "cell_type": "markdown",
   "id": "bdf3fa65-ba4e-4b06-845c-6bfad8e30e9e",
   "metadata": {},
   "source": [
    "#### Student Name: Mai Ngo\n",
    "#### Course Name and Number: DSC 430 Python Programming\n",
    "#### Assignment Name and Number: Assignment0501_Dice and Cups\n",
    "#### Date: 2/6/2023\n",
    "#### Honor Statement: “I have not given or received any unauthorized assistance on this assignment.\""
   ]
  },
  {
   "cell_type": "markdown",
   "id": "37917c88-8719-43da-8b7d-cc994444bbb3",
   "metadata": {},
   "source": [
    "#### Assumption:"
   ]
  },
  {
   "cell_type": "markdown",
   "id": "8cdcebf7-2e75-424c-88c6-88659f5083ce",
   "metadata": {},
   "source": [
    "For Cup class, write codes for roll() and getSum() was not difficult; but then __repr__() got me to rewrite everything. Figure out how to code __repr__ method took me a very long time.\\\n",
    "I was using dictionary at first to store EACH dice with corresponding value(s), but it didn't work out. The __repr__ method in Cup class wasn't return right format and I can't find a way to fix it.\\\n",
    "Initially, I only assigned 3 variables inside  __init__ for three quantities of dices. Then assigned 3 more variables (list) to store EACH dice from each type of dice."
   ]
  },
  {
   "cell_type": "markdown",
   "id": "67ebc600-145a-4dee-9825-a59ad9d763bd",
   "metadata": {},
   "source": [
    "#### How do you extend SixSideDie when writing TenSidedDie and TwentySidedDie."
   ]
  },
  {
   "cell_type": "markdown",
   "id": "3983e821-18c9-4f96-9379-c1d0f8280249",
   "metadata": {},
   "source": [
    "I wrote SixSidedDie class first with all required def. \\\n",
    "TenSidedDie and TwentySidedDie will have the same format. Since both are inherited from SixSidedDie, I only code unique/designated things for each class: \n",
    "\n",
    "    * roll(): different range for different sided dice. \n",
    "    *__repr__: different string for different sided dice."
   ]
  },
  {
   "cell_type": "markdown",
   "id": "9249af1d-e326-48f7-a6a2-fa40a31742bf",
   "metadata": {},
   "source": [
    "#### How you compose the cups class with the die classes."
   ]
  },
  {
   "cell_type": "markdown",
   "id": "7eb64183-46dd-4deb-b61b-c68ce1e1a111",
   "metadata": {},
   "source": [
    "There are 4 def(): __init__, roll(), getSum(), __repr__ \\\n",
    "Init to initialize Cup class attribute: \n",
    "\n",
    "    *I was focusing on quantity of each type of dice at first as Cup class attribute. \n",
    "    *Turned out, it should be EACH dice (item) from total quantity of each type of dice.\n",
    "    *For example: quantity for 6-sided dice is five => generate a list contains five dices.\n",
    "    *With this list, I have individual object(s) now. I can easily call action from other classes. \n",
    "\n",
    "Then, for roll() and getSum() I did index iteration for EACH dice in the cup. \n",
    "\n",
    "    *Both roll() and getSum() have the same format. I created 3 lists for each type of dices holding result of corresponding type of dices.\n",
    "    *Assign variable to store result of A dice, and append it to the list. \n",
    "    *Adding 3 list, sum and return total value.\n",
    "    \n",
    "I also did index iteration for __repr__ method. \n",
    "\n",
    "    *Initialize a string.\n",
    "    *Keep adding all available result of EACH dice for user to read using repr method.\n",
    "    *At the end, remove the comma string character \",\" . Because after every iteration, I add \",\" for separation. \n",
    "    *Close the string.\n",
    "    \n",
    "    "
   ]
  },
  {
   "cell_type": "code",
   "execution_count": 662,
   "id": "209bf1f6-339b-4389-84a1-d53c2abcf854",
   "metadata": {},
   "outputs": [],
   "source": [
    "class SixSidedDie:\n",
    "    '''Represents rolling 6-sided dice, and returns rolling result.'''\n",
    "    \n",
    "    import random\n",
    "    #To use random function.\n",
    "    \n",
    "    def roll(self):\n",
    "        '''Generate result from rolling the dice.'''\n",
    "        \n",
    "        self.roll = random.randrange(1,7)\n",
    "        #Assign self.roll variable represents rolling result. \n",
    "        #Generating a random integer from 1 to 6.\n",
    "        return self.roll\n",
    "    \n",
    "    def getFaceValue(self):\n",
    "        '''Get result from rolling the dice.'''\n",
    "        return self.roll\n",
    "    \n",
    "    def __repr__(self):\n",
    "        '''Return rolling result with type of dice for user to read.'''\n",
    "        return f'''SixSidedDie({self.roll})'''"
   ]
  },
  {
   "cell_type": "code",
   "execution_count": 664,
   "id": "df4bec3c-e402-4ef9-a35b-e7850979df5d",
   "metadata": {},
   "outputs": [
    {
     "name": "stdout",
     "output_type": "stream",
     "text": [
      "3\n",
      "3\n",
      "SixSidedDie(3)\n"
     ]
    }
   ],
   "source": [
    "m = SixSidedDie()\n",
    "print(m.roll())\n",
    "print(m.getFaceValue())\n",
    "print(m)"
   ]
  },
  {
   "cell_type": "code",
   "execution_count": 666,
   "id": "9aa70bd7-b626-4d6e-9ade-3240cbb66517",
   "metadata": {},
   "outputs": [],
   "source": [
    "class TenSidedDie(SixSidedDie):\n",
    "    '''Represents rolling 10-sided dice, and returns rolling result. Inherits from SixSidedDie class.'''\n",
    "    #defGetFaceValue() is inherited from class SixSidedDie.\n",
    "    \n",
    "    def roll(self):\n",
    "        '''Generate result from rolling the dice.'''\n",
    "        \n",
    "        self.roll = random.randrange(1,11)\n",
    "        #Assign self.roll variable represents rolling result. \n",
    "        #Generating a random integer from 1 to 10.\n",
    "        return self.roll\n",
    "    \n",
    "    def __repr__(self):\n",
    "        '''Return rolling result with type of dice for user to read.'''\n",
    "        return f'''TenSidedDie({self.roll})'''"
   ]
  },
  {
   "cell_type": "code",
   "execution_count": 674,
   "id": "1396e156-e7dc-40c9-83ac-4cac1fa81a0d",
   "metadata": {},
   "outputs": [
    {
     "name": "stdout",
     "output_type": "stream",
     "text": [
      "8\n",
      "8\n",
      "TenSidedDie(8)\n"
     ]
    }
   ],
   "source": [
    "a = TenSidedDie()\n",
    "print(a.roll())\n",
    "print(a.getFaceValue())\n",
    "print(a)"
   ]
  },
  {
   "cell_type": "code",
   "execution_count": 673,
   "id": "15e8df05-d118-43f7-81f6-024b44c81b9c",
   "metadata": {},
   "outputs": [],
   "source": [
    "class TwentySidedDie(SixSidedDie):\n",
    "    '''Represents rolling 20-sided dice, and returns rolling result. Inherits from SixSidedDie class.'''\n",
    "    #defGetFaceValue() is inherited from class SixSidedDie.\n",
    "    \n",
    "    def roll(self):\n",
    "        '''Generate result from rolling the dice.'''\n",
    "    \n",
    "        self.roll = roll = random.randrange(1,21)\n",
    "        #Assign self.roll variable represents rolling result. \n",
    "        #Genertating a random integer from 1 to 20.\n",
    "        return self.roll\n",
    "    \n",
    "    def __repr__(self):\n",
    "        '''Return rolling result with type of dice for user to read.'''\n",
    "        return f'''TwentySidedDie({self.roll})'''"
   ]
  },
  {
   "cell_type": "code",
   "execution_count": 635,
   "id": "b3472c46-f99d-4472-b2c0-da8e8ae70d15",
   "metadata": {},
   "outputs": [
    {
     "name": "stdout",
     "output_type": "stream",
     "text": [
      "14\n",
      "14\n",
      "TwentySidedDie(14)\n"
     ]
    }
   ],
   "source": [
    "i = TwentySidedDie()\n",
    "print(i.roll())\n",
    "print(i.getFaceValue())\n",
    "print(i)"
   ]
  },
  {
   "cell_type": "code",
   "execution_count": 691,
   "id": "c7823499-aa50-42aa-8649-7541b20bebf6",
   "metadata": {},
   "outputs": [],
   "source": [
    "class Cup:\n",
    "    '''Represents rolling a cup contains chosen number of dices, and return the total value of all dices.''' \n",
    "\n",
    "    def __init__ (self, six_side=1, ten_side=1, twenty_side=1):\n",
    "        '''Initialize Cup class attribute. Choosing quantity for each type of dices.'''\n",
    "        #If no number input, the cup will contain one of each type of dices by default.\n",
    "    \n",
    "        self.six = six_side\n",
    "        self.ten = ten_side\n",
    "        self.twenty = twenty_side\n",
    "        #Assign variable for each quantity.\n",
    "        \n",
    "        self.count_six = []\n",
    "        self.count_ten = []\n",
    "        self.count_twenty = []\n",
    "        #Generate 3 lists for each type of dices.\n",
    "        \n",
    "        for i in range(self.six):\n",
    "        #Iteration to get each dice (item) from total quantity of 6-sided dice.\n",
    "            self.count_six.append(SixSidedDie())\n",
    "            #Appending each dice (item) to the 6-sided dice list self.count_six[].\n",
    "            #At this point each dice is an item.\n",
    "            \n",
    "        for m in range(self.ten):\n",
    "        #Iteration to get each dice (item) from total quantity of 10-sided dice.   \n",
    "            self.count_ten.append(TenSidedDie())\n",
    "            #Appending each dice (item) to the 10-sided dice list self.count_ten[].\n",
    "            #At this point each dice is an item.\n",
    "            \n",
    "        for l in range(self.twenty):\n",
    "        #Iteration to get each dice (item) from total quantity of 20-sided dice.\n",
    "            self.count_twenty.append(TwentySidedDie())\n",
    "            #Appending each dice (item) to the 20-sided dice list self.count_twenty[].\n",
    "            #At this point each dice is an item.\n",
    "            \n",
    "    def roll(self):\n",
    "        '''Rolling the cup and generate total value of all dices.'''\n",
    "    \n",
    "        roll_six = []\n",
    "        roll_ten = []\n",
    "        roll_twenty = []\n",
    "        #Generate 3 lists for rollsing result of each type of dices.\n",
    "        \n",
    "        for i in range(len(self.count_six)):\n",
    "        #Index iteration over 6-sided dice list, to call out EACH 6-sided dice.\n",
    "            result_i = self.count_six[i].roll()\n",
    "            #Assign result_i variable from rolling each 6-sided dice.\n",
    "            roll_six.append(result_i)\n",
    "            #Appending the result to the corresponding list roll_six[].\n",
    "            \n",
    "        for m in range(len(self.count_ten)):\n",
    "        #Index iteration over 10-sided dice list, to call out EACH 10-sided dice.\n",
    "            result_m = self.count_ten[m].roll()\n",
    "            #Assign result_m variable from rolling each 10-sided dice.\n",
    "            roll_ten.append(result_m)\n",
    "            #Appending the result to the corresponding list roll_ten[].\n",
    "            \n",
    "        for l in range(len(self.count_twenty)):\n",
    "        #Index iteration over 20-sided dice list, to call out EACH 20-sided dice.\n",
    "            result_l = self.count_twenty[l].roll()\n",
    "            #Assign result_l variable from rolling each 20-sided dice.\n",
    "            roll_twenty.append(result_l)\n",
    "            #Appending the result to the corresponding list roll_twenty[].\n",
    "            \n",
    "        roll_total = roll_six + roll_ten + roll_twenty\n",
    "        #Adding all the list together for summation.\n",
    "        \n",
    "        roll_total = sum(roll_total)\n",
    "        #Sum the list. This is the total value of all dices. \n",
    "        \n",
    "        return roll_total\n",
    "        \n",
    "    def getSum(self):\n",
    "        '''Get sum result from rolling all the dices.'''\n",
    "        #Very similar to def roll(), but getting information from def getFaceValue().\n",
    "        \n",
    "        sum_six = []\n",
    "        sum_ten = []\n",
    "        sum_twenty = []\n",
    "        #Generate 3 lists for rollsing result of each type of dices.\n",
    "        \n",
    "        #Index iteration over chosen-sided dice list, to call out EACH chosen-sided dice.\n",
    "        #Assign value variable from rolling each chosen-sided dice.\n",
    "        #Appending the value to the corresponding sumlist[]\n",
    "        for i in range(len(self.count_six)):\n",
    "            val_i = self.count_six[i].getFaceValue()\n",
    "            sum_six.append(val_i)\n",
    "            \n",
    "        for m in range(len(self.count_ten)):\n",
    "            val_m = self.count_ten[m].getFaceValue()\n",
    "            sum_ten.append(val_m)\n",
    "            \n",
    "        for l in range(len(self.count_twenty)):\n",
    "            val_l = self.count_twenty[l].getFaceValue()\n",
    "            sum_twenty.append(val_l)\n",
    "      \n",
    "        #Adding all the list together for summation.\n",
    "        #Sum the list. This is the sum value of all dices.\n",
    "        sum_total = sum_six + sum_ten + sum_twenty\n",
    "        sum_total = sum(sum_total)\n",
    "        \n",
    "        return sum_total\n",
    "    \n",
    "    def __repr__(self):\n",
    "        '''Return EACH rolling result with EACH type of dice for user to read.'''\n",
    "        ans = \"Cup(\"\n",
    "        #Initialize string.\n",
    "        \n",
    "        for i in range(len(self.count_six)):\n",
    "        #Index iteration over 6-sided dice list, to call out EACH 6-sided dice.\n",
    "            ans += repr(self.count_six[i]) +\",\"\n",
    "            #Return rolling result of EACH 6-sided dice for user to read using repr method.\n",
    "            \n",
    "        for m in range(len(self.count_ten)):\n",
    "        #Index iteration over 10-sided dice list, to call out EACH 10-sided dice.\n",
    "            ans += repr(self.count_ten[m])+\",\"\n",
    "            #Return rolling result of EACH 10-sided dice for user to read using repr method.\n",
    "            \n",
    "        for l in range(len(self.count_twenty)):\n",
    "        #Index iteration over 20-sided dice list, to call out EACH 20-sided dice.\n",
    "            ans += repr(self.count_twenty[l])+\",\"\n",
    "            #Return rolling result of EACH 20-sided dice for user to read using repr method.\n",
    "        \n",
    "        ans = ans[0:-1]\n",
    "        #Remove comma. Basically \",\"\n",
    "        ans += \")\"\n",
    "        #Closing string.\n",
    "        \n",
    "        return ans"
   ]
  },
  {
   "cell_type": "code",
   "execution_count": 692,
   "id": "18b52f52-bafa-4bf6-9d8f-739e2c4440eb",
   "metadata": {},
   "outputs": [
    {
     "name": "stdout",
     "output_type": "stream",
     "text": [
      "24\n",
      "24\n",
      "Cup(SixSidedDie(4),TenSidedDie(8),TwentySidedDie(12))\n"
     ]
    }
   ],
   "source": [
    "cup = Cup()\n",
    "print(cup.roll())\n",
    "print(cup.getSum())\n",
    "print(cup)"
   ]
  },
  {
   "cell_type": "code",
   "execution_count": 693,
   "id": "dc961b52-f20a-4d82-901d-706dd8e9a312",
   "metadata": {},
   "outputs": [
    {
     "name": "stdout",
     "output_type": "stream",
     "text": [
      "21\n",
      "21\n",
      "Cup(SixSidedDie(2),SixSidedDie(5),SixSidedDie(1),SixSidedDie(2),TenSidedDie(4),TwentySidedDie(7))\n"
     ]
    }
   ],
   "source": [
    "cup = Cup(4,1,1)\n",
    "print(cup.roll())\n",
    "print(cup.getSum())\n",
    "print(cup)"
   ]
  },
  {
   "cell_type": "code",
   "execution_count": 694,
   "id": "2d2c72fb-34e6-4698-91f0-94e4a6b423f6",
   "metadata": {},
   "outputs": [
    {
     "name": "stdout",
     "output_type": "stream",
     "text": [
      "11\n",
      "11\n",
      "Cup(SixSidedDie(4),SixSidedDie(1),SixSidedDie(6))\n"
     ]
    }
   ],
   "source": [
    "cup = Cup(3,0,0)\n",
    "print(cup.roll())\n",
    "print(cup.getSum())\n",
    "print(cup)"
   ]
  },
  {
   "cell_type": "code",
   "execution_count": 695,
   "id": "ec0a4dc9-9f74-40ce-9205-3d0fa929de02",
   "metadata": {},
   "outputs": [
    {
     "name": "stdout",
     "output_type": "stream",
     "text": [
      "64\n",
      "64\n",
      "Cup(TwentySidedDie(10),TwentySidedDie(12),TwentySidedDie(15),TwentySidedDie(12),TwentySidedDie(15))\n"
     ]
    }
   ],
   "source": [
    "cup = Cup(0,0,5)\n",
    "print(cup.roll())\n",
    "print(cup.getSum())\n",
    "print(cup)"
   ]
  }
 ],
 "metadata": {
  "kernelspec": {
   "display_name": "Python 3 (ipykernel)",
   "language": "python",
   "name": "python3"
  },
  "language_info": {
   "codemirror_mode": {
    "name": "ipython",
    "version": 3
   },
   "file_extension": ".py",
   "mimetype": "text/x-python",
   "name": "python",
   "nbconvert_exporter": "python",
   "pygments_lexer": "ipython3",
   "version": "3.9.13"
  }
 },
 "nbformat": 4,
 "nbformat_minor": 5
}
